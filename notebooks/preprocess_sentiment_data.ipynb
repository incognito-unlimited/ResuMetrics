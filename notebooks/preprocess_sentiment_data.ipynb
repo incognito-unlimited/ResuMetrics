{
 "cells": [
  {
   "cell_type": "code",
   "execution_count": 1,
   "id": "e7886587",
   "metadata": {},
   "outputs": [
    {
     "name": "stderr",
     "output_type": "stream",
     "text": [
      "[nltk_data] Downloading package punkt to C:\\Users\\ACER/nltk_data...\n",
      "[nltk_data]   Package punkt is already up-to-date!\n",
      "[nltk_data] Downloading package stopwords to\n",
      "[nltk_data]     C:\\Users\\ACER/nltk_data...\n",
      "[nltk_data]   Package stopwords is already up-to-date!\n",
      "[nltk_data] Downloading package punkt_tab to\n",
      "[nltk_data]     C:\\Users\\ACER/nltk_data...\n",
      "[nltk_data]   Unzipping tokenizers\\punkt_tab.zip.\n"
     ]
    },
    {
     "name": "stdout",
     "output_type": "stream",
     "text": [
      "Processed Data:\n",
      "                                            feedback sentiment\n",
      "0  team collaboration fantastic feel supported ev...  positive\n",
      "1  workload overwhelming 's little recognition ef...  negative\n",
      "2       enjoy flexible hours trust company places us  positive\n",
      "3  management ignores suggestions feels demotivating  negative\n",
      "4  new project management tools made work much ea...  positive\n",
      "\n",
      "Sentiment Distribution:\n",
      "sentiment\n",
      "positive    108\n",
      "negative    108\n",
      "Name: count, dtype: int64\n",
      "\n",
      "Missing Values:\n",
      "feedback     0\n",
      "sentiment    0\n",
      "dtype: int64\n"
     ]
    }
   ],
   "source": [
    "import pandas as pd\n",
    "import nltk\n",
    "from nltk.tokenize import word_tokenize\n",
    "from nltk.corpus import stopwords\n",
    "import string\n",
    "import os\n",
    "\n",
    "nltk.download('punkt')\n",
    "nltk.download('stopwords')\n",
    "nltk.download('punkt_tab')\n",
    "stop_words = set(stopwords.words('english'))\n",
    "punctuation = set(string.punctuation)\n",
    "\n",
    "def preprocess_text(text):\n",
    "    if not isinstance(text, str):\n",
    "        return \"\"\n",
    "    tokens = word_tokenize(text.lower())\n",
    "    tokens = [t for t in tokens if t not in stop_words and t not in punctuation]\n",
    "    return \" \".join(tokens)\n",
    "\n",
    "# Load raw data\n",
    "input_path = r\"D:\\Python\\ResuMetrics\\data\\training_data\\sentiment_training.csv\"\n",
    "output_path = r\"D:\\Python\\ResuMetrics\\data\\training_data\\sentiment_training_processed.csv\"\n",
    "df = pd.read_csv(input_path)\n",
    "\n",
    "# Remove nulls\n",
    "df = df.dropna()\n",
    "\n",
    "# Preprocess text\n",
    "df['feedback'] = df['feedback'].apply(preprocess_text)\n",
    "\n",
    "# Validate labels\n",
    "df = df[df['sentiment'].isin(['positive', 'negative', 'neutral'])]\n",
    "\n",
    "# Save processed data\n",
    "os.makedirs(os.path.dirname(output_path), exist_ok=True)\n",
    "df.to_csv(output_path, index=False)\n",
    "\n",
    "# Verify\n",
    "print(\"Processed Data:\")\n",
    "print(df.head())\n",
    "print(\"\\nSentiment Distribution:\")\n",
    "print(df['sentiment'].value_counts())\n",
    "print(\"\\nMissing Values:\")\n",
    "print(df.isnull().sum())"
   ]
  }
 ],
 "metadata": {
  "kernelspec": {
   "display_name": "hrtech-venv",
   "language": "python",
   "name": "python3"
  },
  "language_info": {
   "codemirror_mode": {
    "name": "ipython",
    "version": 3
   },
   "file_extension": ".py",
   "mimetype": "text/x-python",
   "name": "python",
   "nbconvert_exporter": "python",
   "pygments_lexer": "ipython3",
   "version": "3.12.10"
  }
 },
 "nbformat": 4,
 "nbformat_minor": 5
}
