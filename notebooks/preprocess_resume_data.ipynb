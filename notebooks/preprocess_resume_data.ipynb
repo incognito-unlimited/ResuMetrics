{
 "cells": [
  {
   "cell_type": "code",
   "execution_count": 5,
   "id": "6a67a9d2",
   "metadata": {},
   "outputs": [
    {
     "name": "stderr",
     "output_type": "stream",
     "text": [
      "[nltk_data] Downloading package punkt to\n",
      "[nltk_data]     C:\\Users\\ACER\\AppData\\Roaming\\nltk_data...\n",
      "[nltk_data]   Package punkt is already up-to-date!\n",
      "[nltk_data] Downloading package stopwords to\n",
      "[nltk_data]     C:\\Users\\ACER\\AppData\\Roaming\\nltk_data...\n",
      "[nltk_data]   Package stopwords is already up-to-date!\n",
      "[nltk_data] Downloading package punkt_tab to\n",
      "[nltk_data]     C:\\Users\\ACER\\AppData\\Roaming\\nltk_data...\n",
      "[nltk_data]   Unzipping tokenizers\\punkt_tab.zip.\n"
     ]
    },
    {
     "name": "stdout",
     "output_type": "stream",
     "text": [
      "Processed Data:\n",
      "                                         resume_text  \\\n",
      "0  senior software engineer 6 years java cloud pl...   \n",
      "1  data analyst 2 years experience sql tableau pr...   \n",
      "2  full-stack engineer 5 years react nodejs mongo...   \n",
      "3  finance manager 7 years corporate finance expe...   \n",
      "4  sales data analyst 4 years sql looker salesfor...   \n",
      "\n",
      "                                     job_description  label  \n",
      "0  sr. software engineer cloud services ncr voyix...      1  \n",
      "1  senior data engineer quantexa requiring 3+ yea...      0  \n",
      "2  senior software engineer fullstack zeal requir...      1  \n",
      "3  finance business analyst apex fintech solution...      0  \n",
      "4  sales data analyst madhive requiring 3+ years ...      1  \n",
      "\n",
      "Label Distribution:\n",
      "label\n",
      "1    121\n",
      "0     45\n",
      "Name: count, dtype: int64\n",
      "\n",
      "Missing Values:\n",
      "resume_text        0\n",
      "job_description    0\n",
      "label              0\n",
      "dtype: int64\n"
     ]
    }
   ],
   "source": [
    "import pandas as pd\n",
    "import nltk\n",
    "from nltk.tokenize import word_tokenize\n",
    "from nltk.corpus import stopwords\n",
    "import string\n",
    "import os\n",
    "\n",
    "nltk.download('punkt')\n",
    "nltk.download('stopwords')\n",
    "nltk.download('punkt_tab')\n",
    "stop_words = set(stopwords.words('english'))\n",
    "punctuation = set(string.punctuation)\n",
    "\n",
    "def preprocess_text(text):\n",
    "    if not isinstance(text, str):\n",
    "        return \"\"\n",
    "    tokens = word_tokenize(text.lower())\n",
    "    tokens = [t for t in tokens if t not in stop_words and t not in punctuation]\n",
    "    return \" \".join(tokens)\n",
    "\n",
    "# Load raw data\n",
    "input_path = r\"D:\\Python\\ResuMetrics\\data\\training_data\\resume_training.csv\"\n",
    "output_path = r\"D:\\Python\\ResuMetrics\\data\\training_data\\resume_training_processed.csv\"\n",
    "df = pd.read_csv(input_path)\n",
    "\n",
    "# Remove nulls\n",
    "df = df.dropna()\n",
    "\n",
    "# Preprocess text\n",
    "df['resume_text'] = df['resume_text'].apply(preprocess_text)\n",
    "df['job_description'] = df['job_description'].apply(preprocess_text)\n",
    "\n",
    "# Validate labels\n",
    "df = df[df['label'].isin([0, 1])]\n",
    "\n",
    "# Save processed data\n",
    "os.makedirs(os.path.dirname(output_path), exist_ok=True)\n",
    "df.to_csv(output_path, index=False)\n",
    "\n",
    "# Verify\n",
    "print(\"Processed Data:\")\n",
    "print(df.head())\n",
    "print(\"\\nLabel Distribution:\")\n",
    "print(df['label'].value_counts())\n",
    "print(\"\\nMissing Values:\")\n",
    "print(df.isnull().sum())"
   ]
  }
 ],
 "metadata": {
  "kernelspec": {
   "display_name": "hrtech-venv",
   "language": "python",
   "name": "python3"
  },
  "language_info": {
   "codemirror_mode": {
    "name": "ipython",
    "version": 3
   },
   "file_extension": ".py",
   "mimetype": "text/x-python",
   "name": "python",
   "nbconvert_exporter": "python",
   "pygments_lexer": "ipython3",
   "version": "3.12.10"
  }
 },
 "nbformat": 4,
 "nbformat_minor": 5
}
