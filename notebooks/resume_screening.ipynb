{
 "cells": [
  {
   "cell_type": "code",
   "execution_count": 5,
   "id": "6ebd2f12",
   "metadata": {},
   "outputs": [
    {
     "name": "stdout",
     "output_type": "stream",
     "text": [
      "ENGINEERING LAB TECHNICIAN\n",
      "Career Focus\n",
      "My main objective in seeking employment with Triumph Actuation Systems Inc. is to work in a professional atmosphere where I can utilize my\n",
      "skills and continue to gain experience in the aerospace industry to advance in my career.\n",
      "Professional Experience\n",
      "Engineering Lab Technician Oct 2016 to Current\n",
      "Company Name 11/4 City, State\n",
      "· Responsible for testing various seat structures to meet specific certification requirements. Â\n",
      ". Maintain and calibrate test instruments to ensure testing capabilities are maintained.\n",
      ". Ensure data is captured and recorded correctly for certification test reports.\n",
      "· Duties also dynamic test set-up and static suite testing.\n",
      "Engineering Lab Technician, Sr. Specialist Apr 2012 to Oct 2016\n",
      "Company Name 11/4 City , State\n",
      ". Utilized skills learned from Lab View Course 1 training to construct and maintain Lab View VI programs.\n",
      "· Responsible for fabricating and maintaining hydraulic/electrical test equipment to complete development and qualification programs.\n",
      "· Apply engineering principles to operate electrical, mechanical, and hydraulic systems to test pumps, motors, and actuators for aircraft.\n",
      ". Work closely with Design Engineers and Lab Management to investigate performance/design issues.\n",
      ". Completed Lean Six Sigma/5s training seminar.\n",
      "Assembly/ Test Technician Mar 2007 to Mar 2012\n",
      "Company Name 11/4 City, State\n",
      ". Lead technician overseeing three member crew responsible for maintaining high quality standards in a high volume production environment.\n",
      "· Responsible for cargo door system actuators for Boeing 787 aircraft.\n",
      ". Experience with hydraulic components that meet military and FAA regulations.\n",
      ". Work closely with Engineering Group and Quality Assurance inspectors to resolve problems with development actuators.\n",
      "Munitions Systems Journeyman Mar 2003 to Mar 2007\n",
      "Company Name 11/4 City , State\n",
      "· Responsible for certifying small arms, actuation devices, bombs, rockets and other munitions items.\n",
      "· Supervised work crews of 3-5 men while supporting USAF aircraft during Operation Enduring Freedom\n",
      ". Assembled rockets, bombs, and small arms for Operation Enduring Freedom\n",
      ". Train newly assigned personnel at Line Delivery section on transporting, loading, and delivering munitions to aircraft.\n",
      "Skills\n",
      "DasyLab, Labview, Mechanical, Electrical, Lean/5S, Hydraulic Testing, Test Stand Fabrication\n",
      "Education and Training\n",
      "Associates , Applied Science Electronics Engineering 2011 Forsyth Technical Community College i1/4 City, State Applied Science Electronics\n",
      "Engineering\n",
      "Associates , Applied Science, Munitions Systems Technology 2007 Community College of the Air Force i1/4 City, State Applied Science,\n",
      "Munitions Systems Technology\n",
      "\n"
     ]
    }
   ],
   "source": [
    "from azure.core.credentials import AzureKeyCredential\n",
    "from azure.ai.documentintelligence import DocumentIntelligenceClient\n",
    "import os\n",
    "from dotenv import load_dotenv\n",
    "\n",
    "load_dotenv()\n",
    "endpoint = os.getenv(\"DOCUMENT_INTELLIGENCE_ENDPOINT\")\n",
    "key = os.getenv(\"DOCUMENT_INTELLIGENCE_KEY\")\n",
    "client = DocumentIntelligenceClient(endpoint=endpoint, credential=AzureKeyCredential(key))\n",
    "model_id = \"prebuilt-read\"\n",
    "pdf_path = r\"D:\\Python\\ResuMetrics\\data\\resumes\\10030015.pdf\"\n",
    "\n",
    "with open(pdf_path, \"rb\") as f:\n",
    "    poller = client.begin_analyze_document(model_id, f)\n",
    "result = poller.result()\n",
    "\n",
    "resume_text = \"\"\n",
    "for page in result.pages:\n",
    "    for line in page.lines:\n",
    "        resume_text += line.content + \"\\n\"\n",
    "print(resume_text)"
   ]
  }
 ],
 "metadata": {
  "kernelspec": {
   "display_name": "hrtech-venv",
   "language": "python",
   "name": "python3"
  },
  "language_info": {
   "codemirror_mode": {
    "name": "ipython",
    "version": 3
   },
   "file_extension": ".py",
   "mimetype": "text/x-python",
   "name": "python",
   "nbconvert_exporter": "python",
   "pygments_lexer": "ipython3",
   "version": "3.12.10"
  }
 },
 "nbformat": 4,
 "nbformat_minor": 5
}
