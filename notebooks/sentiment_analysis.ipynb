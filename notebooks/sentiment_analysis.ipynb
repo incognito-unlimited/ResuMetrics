{
 "cells": [
  {
   "cell_type": "code",
   "execution_count": 1,
   "id": "2df2c79f",
   "metadata": {},
   "outputs": [
    {
     "name": "stdout",
     "output_type": "stream",
     "text": [
      "Feedback: love working team great\n",
      "Sentiment: Positive\n"
     ]
    }
   ],
   "source": [
    "from groq import Groq\n",
    "import os\n",
    "from dotenv import load_dotenv\n",
    "\n",
    "load_dotenv()\n",
    "client = Groq(api_key=os.getenv(\"GROQ_API_KEY\"))\n",
    "\n",
    "feedback = \"love working team great\"\n",
    "prompt = f\"\"\"\n",
    "You are a sentiment analysis expert. Given a piece of feedback, classify its sentiment as 'Positive', 'Negative', or 'Neutral'. Return only the sentiment class as a single word.\n",
    "\n",
    "Feedback: {feedback}\n",
    "\"\"\"\n",
    "\n",
    "completion = client.chat.completions.create(\n",
    "    model=\"compound-beta\",\n",
    "    messages=[{\"role\": \"user\", \"content\": prompt}],\n",
    "    temperature=0.5,\n",
    "    max_completion_tokens=10,\n",
    "    top_p=1,\n",
    "    stream=False,\n",
    "    stop=None,\n",
    ")\n",
    "\n",
    "sentiment = completion.choices[0].message.content.strip()\n",
    "print(f\"Feedback: {feedback}\")\n",
    "print(f\"Sentiment: {sentiment}\")"
   ]
  },
  {
   "cell_type": "code",
   "execution_count": 2,
   "id": "d34a4e44",
   "metadata": {},
   "outputs": [
    {
     "name": "stdout",
     "output_type": "stream",
     "text": [
      "**Sentiment**: Negative\n",
      "**Analysis**: The sentiment of this feedback is negative, driven primarily by feelings of being undervalued and overworked. The key emotional or thematic elements driving this sentiment are the employee's perceived lack of recognition and an excessive workload. The specific phrases \"undervalued\" and \"overworked\" are crucial in understanding the employee's dissatisfaction. The theme of being \"undervalued\" suggests that the employee feels their contributions are not recognized or appreciated, indicating a need for better recognition or respect from the organization. On the other hand, feeling \"overworked\" points to potential issues with workload management, resource allocation, or work-life balance. These themes are interconnected, as an overworked employee might also feel undervalued if their extra efforts are not acknowledged. Overall, the feedback highlights the importance of addressing recognition and workload concerns to improve employee satisfaction and well-being.\n"
     ]
    }
   ],
   "source": [
    "from groq import Groq\n",
    "import os\n",
    "from dotenv import load_dotenv\n",
    "\n",
    "load_dotenv()\n",
    "client = Groq(api_key=os.getenv(\"GROQ_API_KEY\"))\n",
    "\n",
    "feedback = \"I feel undervalued and overworked.\"\n",
    "prompt = f\"\"\"\n",
    "You are an HR specialist analyzing employee feedback. Given a piece of feedback, assess its sentiment (positive, negative, neutral) and explain the key emotional or thematic elements driving the sentiment. Highlight specific phrases or themes (e.g., teamwork, workload, recognition). Format the response as follows:\n",
    "\n",
    "**Sentiment**: [Positive/Negative/Neutral]\n",
    "**Analysis**: [Detailed explanation of emotional/thematic elements]\n",
    "\n",
    "Feedback: {feedback}\n",
    "\"\"\"\n",
    "\n",
    "completion = client.chat.completions.create(\n",
    "    model=\"compound-beta\",\n",
    "    messages=[{\"role\": \"user\", \"content\": prompt}],\n",
    "    temperature=0.7,\n",
    "    max_completion_tokens=150,\n",
    "    top_p=1,\n",
    "    stream=False,\n",
    "    stop=None,\n",
    ")\n",
    "\n",
    "analysis = completion.choices[0].message.content.strip()\n",
    "print(analysis)"
   ]
  },
  {
   "cell_type": "code",
   "execution_count": 3,
   "id": "d8e864ca",
   "metadata": {},
   "outputs": [
    {
     "name": "stdout",
     "output_type": "stream",
     "text": [
      "**Summary**:\n",
      "- Overall Nature: Mixed\n",
      "- Attrition Risk: Medium\n",
      "\n",
      "**Recommendations**:\n",
      "- Implement a regular feedback and recognition system to ensure employees feel valued and appreciated, addressing the issue of feeling undervalued expressed in the negative feedback.\n",
      "- Conduct a thorough review of employee workloads to ensure they are manageable and equitable, directly addressing the concern of being overworked mentioned in the negative feedback.\n",
      "- Organize team-building activities to foster a sense of community and belonging among employees, leveraging the positive sentiment towards the team to further enhance employee engagement and overall job satisfaction.\n"
     ]
    }
   ],
   "source": [
    "from groq import Groq\n",
    "import os\n",
    "from dotenv import load_dotenv\n",
    "\n",
    "load_dotenv()\n",
    "client = Groq(api_key=os.getenv(\"GROQ_API_KEY\"))\n",
    "\n",
    "feedback_list = [\n",
    "    {\"text\": \"I love working here! The team is great.\", \"sentiment\": \"positive\"},\n",
    "    {\"text\": \"I feel undervalued and overworked.\", \"sentiment\": \"negative\"}\n",
    "]\n",
    "feedback_str = \"\\n\".join([f\"- {f['text']} ({f['sentiment']})\" for f in feedback_list])\n",
    "prompt = f\"\"\"\n",
    "You are an HR specialist analyzing employee feedback to assess sentiment and recommend engagement strategies. Given a list of feedback and their predicted sentiments (positive, negative, neutral), summarize the overall nature of the responses (e.g., predominantly positive, mixed, mostly negative). Assess the attrition risk (low, medium, high) based on the proportion of negative feedback. Provide 2-3 targeted recommendations to improve employee engagement, addressing specific issues in the feedback. Ensure recommendations are actionable, aligned with HR best practices, and prioritized by impact. Format the response as follows:\n",
    "\n",
    "**Summary**:\n",
    "- Overall Nature: [e.g., Predominantly positive]\n",
    "- Attrition Risk: [Low/Medium/High]\n",
    "\n",
    "**Recommendations**:\n",
    "- [Recommendation 1]\n",
    "- [Recommendation 2]\n",
    "\n",
    "Feedback List:\n",
    "{feedback_str}\n",
    "\"\"\"\n",
    "\n",
    "completion = client.chat.completions.create(\n",
    "    model=\"compound-beta\",\n",
    "    messages=[{\"role\": \"user\", \"content\": prompt}],\n",
    "    temperature=0.7,\n",
    "    max_completion_tokens=200,\n",
    "    top_p=1,\n",
    "    stream=False,\n",
    "    stop=None,\n",
    ")\n",
    "\n",
    "recommendations = completion.choices[0].message.content.strip()\n",
    "print(recommendations)"
   ]
  }
 ],
 "metadata": {
  "kernelspec": {
   "display_name": "hrtech-venv",
   "language": "python",
   "name": "python3"
  },
  "language_info": {
   "codemirror_mode": {
    "name": "ipython",
    "version": 3
   },
   "file_extension": ".py",
   "mimetype": "text/x-python",
   "name": "python",
   "nbconvert_exporter": "python",
   "pygments_lexer": "ipython3",
   "version": "3.12.10"
  }
 },
 "nbformat": 4,
 "nbformat_minor": 5
}
